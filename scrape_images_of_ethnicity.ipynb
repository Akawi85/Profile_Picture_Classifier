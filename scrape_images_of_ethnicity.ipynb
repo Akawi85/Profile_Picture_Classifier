{
 "cells": [
  {
   "cell_type": "code",
   "execution_count": 2,
   "metadata": {},
   "outputs": [],
   "source": [
    "# import dependencies\n",
    "import selenium\n",
    "import os\n",
    "import time\n",
    "from selenium import webdriver\n",
    "import requests\n",
    "import io\n",
    "from PIL import Image\n",
    "import hashlib"
   ]
  },
  {
   "cell_type": "code",
   "execution_count": 3,
   "metadata": {},
   "outputs": [],
   "source": [
    "# Put the path for your ChromeDriver here\n",
    "DRIVER_PATH = '/Users/ADMIN/Desktop/chromedriverjust.exe'"
   ]
  },
  {
   "cell_type": "code",
   "execution_count": 4,
   "metadata": {},
   "outputs": [],
   "source": [
    "# instantiate a webdriver\n",
    "wd = webdriver.Chrome(executable_path=DRIVER_PATH)"
   ]
  },
  {
   "cell_type": "code",
   "execution_count": 5,
   "metadata": {},
   "outputs": [],
   "source": [
    "# go to google.com\n",
    "wd.get('https://google.com')"
   ]
  },
  {
   "cell_type": "code",
   "execution_count": 6,
   "metadata": {},
   "outputs": [],
   "source": [
    "# create a search box and type Black Americans\n",
    "search_box = wd.find_element_by_css_selector('input.gLFyf')\n",
    "search_box.send_keys('Black Americans')"
   ]
  },
  {
   "cell_type": "code",
   "execution_count": 7,
   "metadata": {},
   "outputs": [],
   "source": [
    "# close webdriver\n",
    "wd.quit()"
   ]
  },
  {
   "cell_type": "markdown",
   "metadata": {},
   "source": [
    "### Searching for a particular phrase & get the image links\n"
   ]
  },
  {
   "cell_type": "code",
   "execution_count": 13,
   "metadata": {},
   "outputs": [],
   "source": [
    "def fetch_image_urls(query:str, max_links_to_fetch:int, wd:webdriver, sleep_between_interactions:int=1):\n",
    "    def scroll_to_end(wd):\n",
    "        wd.execute_script(\"window.scrollTo(0, document.body.scrollHeight);\")\n",
    "        time.sleep(sleep_between_interactions)    \n",
    "    \n",
    "    # build the google query\n",
    "    search_url = \"https://www.google.com/search?safe=off&site=&tbm=isch&source=hp&q={q}&oq={q}&gs_l=img\"\n",
    "\n",
    "    # load the page\n",
    "    wd.get(search_url.format(q=query))\n",
    "\n",
    "    image_urls = set()\n",
    "    image_count = 0\n",
    "    results_start = 0\n",
    "    while image_count < max_links_to_fetch:\n",
    "        scroll_to_end(wd)\n",
    "\n",
    "        # get all image thumbnail results\n",
    "        thumbnail_results = wd.find_elements_by_css_selector(\"img.Q4LuWd\")\n",
    "        number_results = len(thumbnail_results)\n",
    "        \n",
    "        print(f\"Found: {number_results} search results. Extracting links from {results_start}:{number_results}\")\n",
    "        \n",
    "        for img in thumbnail_results[results_start:number_results]:\n",
    "            # try to click every thumbnail such that we can get the real image behind it\n",
    "            try:\n",
    "                img.click()\n",
    "                time.sleep(sleep_between_interactions)\n",
    "            except Exception:\n",
    "                continue\n",
    "\n",
    "            # extract image urls    \n",
    "            actual_images = wd.find_elements_by_css_selector('img.n3VNCb')\n",
    "            for actual_image in actual_images:\n",
    "                if actual_image.get_attribute('src') and 'http' in actual_image.get_attribute('src'):\n",
    "                    image_urls.add(actual_image.get_attribute('src'))\n",
    "\n",
    "            image_count = len(image_urls)\n",
    "\n",
    "            if len(image_urls) >= max_links_to_fetch:\n",
    "                print(f\"Found: {len(image_urls)} image links, done!\")\n",
    "                break\n",
    "        else:\n",
    "            print(\"Found:\", len(image_urls), \"image links, looking for more ...\")\n",
    "            time.sleep(30)\n",
    "            return\n",
    "            load_more_button = wd.find_element_by_css_selector(\".mye4qd\")\n",
    "            if load_more_button:\n",
    "                wd.execute_script(\"document.querySelector('.mye4qd').click();\")\n",
    "\n",
    "        # move the result startpoint further down\n",
    "        results_start = len(thumbnail_results)\n",
    "\n",
    "    return image_urls"
   ]
  },
  {
   "cell_type": "markdown",
   "metadata": {},
   "source": [
    "The function `fetch_image_urls` expects three input parameters:  \n",
    "1. `query` : Search term, like Dog\n",
    "2. `max_links_to_fetch` : Number of links the scraper is supposed to collect\n",
    "3. `webdriver` : instantiated \n",
    "\n",
    "### Downloading the images\n",
    "For the following snippet to work, we will first have to install PIL by running pip install Pillow."
   ]
  },
  {
   "cell_type": "code",
   "execution_count": 8,
   "metadata": {},
   "outputs": [
    {
     "name": "stdout",
     "output_type": "stream",
     "text": [
      "Requirement already satisfied: Pillow in c:\\users\\admin\\anaconda3\\lib\\site-packages (7.2.0)\n",
      "Note: you may need to restart the kernel to use updated packages.\n"
     ]
    }
   ],
   "source": [
    "pip install Pillow"
   ]
  },
  {
   "cell_type": "code",
   "execution_count": 9,
   "metadata": {},
   "outputs": [],
   "source": [
    "def persist_image(folder_path:str, url:str):\n",
    "    try:\n",
    "        image_content = requests.get(url).content\n",
    "\n",
    "    except Exception as e:\n",
    "        print(f\"ERROR - Could not download {url} - {e}\")\n",
    "\n",
    "    try:\n",
    "        image_file = io.BytesIO(image_content)\n",
    "        image = Image.open(image_file).convert('RGB')\n",
    "        file_path = os.path.join(folder_path,hashlib.sha1(image_content).hexdigest()[:10] + '.jpg')\n",
    "        with open(file_path, 'wb') as f:\n",
    "            image.save(f, \"JPEG\", quality=85)\n",
    "        print(f\"SUCCESS - saved {url} - as {file_path}\")\n",
    "    except Exception as e:\n",
    "        print(f\"ERROR - Could not save {url} - {e}\")"
   ]
  },
  {
   "cell_type": "markdown",
   "metadata": {},
   "source": [
    "The persist_image function grabs an image URL url and downloads it into the folder_path. The function will assign the image a random 10-digit id.\n",
    "\n",
    "### Putting it all together\n",
    "The following function search_and_download combines the previous two functions and adds some resiliency to how we use the ChromeDriver. More precisely, we are using the ChromeDriver within a with context, which guarantees that the browser closes down ordinarily, even if something within the with context raises an error. search_and_download allows you to specify number_images, which by default is set to 5, but can be set to whatever number of images you want to download."
   ]
  },
  {
   "cell_type": "code",
   "execution_count": 10,
   "metadata": {},
   "outputs": [],
   "source": [
    "def search_and_download(search_term:str,driver_path:str,target_path='./images',number_images=5):\n",
    "    target_folder = os.path.join(target_path,'_'.join(search_term.lower().split(' ')))\n",
    "\n",
    "    if not os.path.exists(target_folder):\n",
    "        os.makedirs(target_folder)\n",
    "\n",
    "    with webdriver.Chrome(executable_path=driver_path) as wd:\n",
    "        res = fetch_image_urls(search_term, number_images, wd=wd, sleep_between_interactions=0.5)\n",
    "        \n",
    "    for elem in res:\n",
    "        persist_image(target_folder,elem)"
   ]
  },
  {
   "cell_type": "code",
   "execution_count": 19,
   "metadata": {},
   "outputs": [
    {
     "name": "stdout",
     "output_type": "stream",
     "text": [
      "Found: 100 search results. Extracting links from 0:100\n",
      "Found: 50 image links, done!\n",
      "SUCCESS - saved https://encrypted-tbn0.gstatic.com/images?q=tbn:ANd9GcQzCEzt4kvllVImB_Noqv-bd8q-7fnGuUHk9Q&usqp=CAU - as ./images\\black_americans\\fd7763f4f5.jpg\n",
      "SUCCESS - saved https://encrypted-tbn0.gstatic.com/images?q=tbn:ANd9GcQeMTe-dNno9bNOMcu8EPr7LaKvviUEiVmvBg&usqp=CAU - as ./images\\black_americans\\e7f44e83ac.jpg\n",
      "SUCCESS - saved https://encrypted-tbn0.gstatic.com/images?q=tbn:ANd9GcSPebAvyCEew4W_uq5KcwLIY_QpbGIQsP37bA&usqp=CAU - as ./images\\black_americans\\171f0254d9.jpg\n",
      "SUCCESS - saved https://encrypted-tbn0.gstatic.com/images?q=tbn:ANd9GcSve1e9YeDt3i8WLGIbrttGK7tdX4Osh9XxWg&usqp=CAU - as ./images\\black_americans\\52c1865ddc.jpg\n",
      "SUCCESS - saved https://encrypted-tbn0.gstatic.com/images?q=tbn:ANd9GcS6W_tTnFB-CvIcCVgazD1FgrygKF2u1pMvUg&usqp=CAU - as ./images\\black_americans\\438f4c3d5f.jpg\n",
      "SUCCESS - saved https://encrypted-tbn0.gstatic.com/images?q=tbn:ANd9GcRABgwsPhm-bMblYeqDT2REvGKzNe_Z_-k7WA&usqp=CAU - as ./images\\black_americans\\2639b5329f.jpg\n",
      "SUCCESS - saved https://encrypted-tbn0.gstatic.com/images?q=tbn:ANd9GcQhlxQO5KhgrrUkO7LlzeB-A8id31Uvwear5Q&usqp=CAU - as ./images\\black_americans\\eb527f7fd6.jpg\n",
      "SUCCESS - saved https://encrypted-tbn0.gstatic.com/images?q=tbn:ANd9GcSIzPimnQOBIT9b16SWekT0YCowbzupeVjW7A&usqp=CAU - as ./images\\black_americans\\4e40565961.jpg\n",
      "SUCCESS - saved https://encrypted-tbn0.gstatic.com/images?q=tbn:ANd9GcRG7abPlSKCi6-iEIskVF0DdgycIwG3QuZ2UQ&usqp=CAU - as ./images\\black_americans\\3e2eb11e7c.jpg\n",
      "SUCCESS - saved https://encrypted-tbn0.gstatic.com/images?q=tbn:ANd9GcR7ZzNls39EXqzZ6hEQG_ZuKvC2mLg5ndYqrw&usqp=CAU - as ./images\\black_americans\\4b63b0c5fa.jpg\n",
      "SUCCESS - saved https://encrypted-tbn0.gstatic.com/images?q=tbn:ANd9GcQt7jBF862Nvydsoi0EfH20qnQBFY1YOrxU9w&usqp=CAU - as ./images\\black_americans\\bc17d6d293.jpg\n",
      "SUCCESS - saved https://encrypted-tbn0.gstatic.com/images?q=tbn:ANd9GcSN9llrRcdgW8AJhQjPHV7ErVwDKDrh0wJ2lw&usqp=CAU - as ./images\\black_americans\\da75df5c63.jpg\n",
      "SUCCESS - saved https://encrypted-tbn0.gstatic.com/images?q=tbn:ANd9GcQWVx_6dkkKepSZbY3Y9awMt0ADDxgOanWjUA&usqp=CAU - as ./images\\black_americans\\41ec59762e.jpg\n",
      "SUCCESS - saved https://encrypted-tbn0.gstatic.com/images?q=tbn:ANd9GcRew5WCACdm0VVP5scOlis5wK4-hU0UUZ83Ww&usqp=CAU - as ./images\\black_americans\\a37614940d.jpg\n",
      "SUCCESS - saved https://encrypted-tbn0.gstatic.com/images?q=tbn:ANd9GcQA8kVsTcphCBps4_Mjn4zHO3ZqWjFq2uA29Q&usqp=CAU - as ./images\\black_americans\\a85eaf3704.jpg\n",
      "SUCCESS - saved https://encrypted-tbn0.gstatic.com/images?q=tbn:ANd9GcSKKdjNV8kiQhW3W0ZOZKuOQRrqBOfUe802fQ&usqp=CAU - as ./images\\black_americans\\4bf14f96c6.jpg\n",
      "SUCCESS - saved https://encrypted-tbn0.gstatic.com/images?q=tbn:ANd9GcSCdcJGJsQ6PiGCE583SlbxT_pZ1gciuq0C3g&usqp=CAU - as ./images\\black_americans\\739ed390a0.jpg\n",
      "SUCCESS - saved https://encrypted-tbn0.gstatic.com/images?q=tbn:ANd9GcQoEQTW7TcY-1djtB7a52Ym0UTfWvX0Q3faOw&usqp=CAU - as ./images\\black_americans\\72c4256d5d.jpg\n",
      "SUCCESS - saved https://encrypted-tbn0.gstatic.com/images?q=tbn:ANd9GcRRcVjPUXusAQ7FlO2Akmwx3xj2SUdA7XnyDg&usqp=CAU - as ./images\\black_americans\\2c088ed49d.jpg\n",
      "SUCCESS - saved https://encrypted-tbn0.gstatic.com/images?q=tbn:ANd9GcQcEjisBzvXRxtgQdxffgLjV3mOzjKqD13IAw&usqp=CAU - as ./images\\black_americans\\e424e55e1b.jpg\n",
      "SUCCESS - saved https://encrypted-tbn0.gstatic.com/images?q=tbn:ANd9GcRYsFKFNZd78POUsekqu_oekAltDIRTAliYDA&usqp=CAU - as ./images\\black_americans\\7f776b5538.jpg\n",
      "SUCCESS - saved https://encrypted-tbn0.gstatic.com/images?q=tbn:ANd9GcR_c5qs1K5iH4YJXzPVE1bkMP6flS4cLRFMKw&usqp=CAU - as ./images\\black_americans\\8355e9062b.jpg\n",
      "SUCCESS - saved https://encrypted-tbn0.gstatic.com/images?q=tbn:ANd9GcQrlXpjcmm-v6PRqcQxW9ZUDtXEhhRvv_zB-g&usqp=CAU - as ./images\\black_americans\\1e56077af6.jpg\n",
      "SUCCESS - saved https://encrypted-tbn0.gstatic.com/images?q=tbn:ANd9GcTn98XA25KCCfNrLVKEJ_Ik9BDGHaCjbiyhGQ&usqp=CAU - as ./images\\black_americans\\c437f1bcdf.jpg\n",
      "SUCCESS - saved https://encrypted-tbn0.gstatic.com/images?q=tbn:ANd9GcQnB6kUkGTMuCHTYAV7F_eyAnFWufdOEKyPtQ&usqp=CAU - as ./images\\black_americans\\25aacf800b.jpg\n",
      "SUCCESS - saved https://encrypted-tbn0.gstatic.com/images?q=tbn:ANd9GcS5Oi5t_imoUlK6-nBhEqz-UeHSNtVifjTfIA&usqp=CAU - as ./images\\black_americans\\a34ea5e648.jpg\n",
      "SUCCESS - saved https://encrypted-tbn0.gstatic.com/images?q=tbn:ANd9GcRQw195Fbw_Ly8SilgVaL5PAcCwwcJOeNhSVg&usqp=CAU - as ./images\\black_americans\\5737f6db83.jpg\n",
      "SUCCESS - saved https://encrypted-tbn0.gstatic.com/images?q=tbn:ANd9GcR-lQAuF-WD3NG78dPny_yjyEOJUmmOp6HPIQ&usqp=CAU - as ./images\\black_americans\\f0deb980cf.jpg\n",
      "SUCCESS - saved https://encrypted-tbn0.gstatic.com/images?q=tbn:ANd9GcR8J_RfLntrqfEXcu7Mz61ZnLXGlT867KQx-g&usqp=CAU - as ./images\\black_americans\\b2e98d5f05.jpg\n",
      "SUCCESS - saved https://encrypted-tbn0.gstatic.com/images?q=tbn:ANd9GcS6_cJwm4qGzp60d1JZKsQA-kI3tMumgOJiyQ&usqp=CAU - as ./images\\black_americans\\b68e12b87d.jpg\n",
      "SUCCESS - saved https://encrypted-tbn0.gstatic.com/images?q=tbn:ANd9GcSYOwXAme7fvnpjU9EkIInRMRc3QPm1PdkqOw&usqp=CAU - as ./images\\black_americans\\13a514770d.jpg\n",
      "SUCCESS - saved https://encrypted-tbn0.gstatic.com/images?q=tbn:ANd9GcSY3I3APf-7W9d4_OsVIlEob6CR2UTT4QrJNg&usqp=CAU - as ./images\\black_americans\\8d99508de5.jpg\n",
      "SUCCESS - saved https://encrypted-tbn0.gstatic.com/images?q=tbn:ANd9GcSkzJep4ia0rrKtKbnJZDj_LYehwHvLbanp6g&usqp=CAU - as ./images\\black_americans\\d50197836e.jpg\n",
      "SUCCESS - saved https://encrypted-tbn0.gstatic.com/images?q=tbn:ANd9GcRWj5r2yMubC9S99tYFs4FNwPECuzZJpxCqBA&usqp=CAU - as ./images\\black_americans\\37f2301ead.jpg\n",
      "SUCCESS - saved https://encrypted-tbn0.gstatic.com/images?q=tbn:ANd9GcSnieAUvYMxR_ip4Bmfwvqvd7bj30o87-RnvQ&usqp=CAU - as ./images\\black_americans\\79777cbdd0.jpg\n",
      "SUCCESS - saved https://encrypted-tbn0.gstatic.com/images?q=tbn:ANd9GcQVCZ4wNPD42Y_Rf0nqUOfzFxZRcvwaOoV3Lw&usqp=CAU - as ./images\\black_americans\\7c96849fdd.jpg\n",
      "SUCCESS - saved https://encrypted-tbn0.gstatic.com/images?q=tbn:ANd9GcSr4J92ioJETUpikPpqr4kRAErxiSCqci8RcQ&usqp=CAU - as ./images\\black_americans\\da235d5225.jpg\n",
      "SUCCESS - saved https://encrypted-tbn0.gstatic.com/images?q=tbn:ANd9GcTgE7rVIN-t1tHgu4cgxNIVfniauVIHatN2SQ&usqp=CAU - as ./images\\black_americans\\fe5ec31de9.jpg\n",
      "SUCCESS - saved https://encrypted-tbn0.gstatic.com/images?q=tbn:ANd9GcQJC18fcFOLcwftiZ_MFz61Jikyj9cvy6D2ZA&usqp=CAU - as ./images\\black_americans\\b9e1401936.jpg\n",
      "SUCCESS - saved https://encrypted-tbn0.gstatic.com/images?q=tbn:ANd9GcSE1QdEDkr8NPpztNk2MDgogNbSdk6fLqGkcQ&usqp=CAU - as ./images\\black_americans\\b5a580078f.jpg\n",
      "SUCCESS - saved https://encrypted-tbn0.gstatic.com/images?q=tbn:ANd9GcSR1376bBuptbZMWpr_1LAwvAwRyEyA2cG4HQ&usqp=CAU - as ./images\\black_americans\\8366b462a5.jpg\n",
      "SUCCESS - saved https://encrypted-tbn0.gstatic.com/images?q=tbn:ANd9GcRZe_eqFu7bBC8JGlFKh6GbMQTJL1iS3DvgFg&usqp=CAU - as ./images\\black_americans\\bdbc047f52.jpg\n",
      "SUCCESS - saved https://encrypted-tbn0.gstatic.com/images?q=tbn:ANd9GcQAr7s2yz0viDil-RwqIFgwhtT4hsJgbuXKIQ&usqp=CAU - as ./images\\black_americans\\ef827699b1.jpg\n",
      "SUCCESS - saved https://encrypted-tbn0.gstatic.com/images?q=tbn:ANd9GcSBxS6oGgeuSd32P8vnNTevR9aLLrJMs6sO6A&usqp=CAU - as ./images\\black_americans\\2894da28ee.jpg\n",
      "SUCCESS - saved https://encrypted-tbn0.gstatic.com/images?q=tbn:ANd9GcRuReBVk6dPQhW4nLjL9vYbPV5BUKpLSAODGw&usqp=CAU - as ./images\\black_americans\\2d99ef3930.jpg\n",
      "SUCCESS - saved https://encrypted-tbn0.gstatic.com/images?q=tbn:ANd9GcTHl9H7u96a8sJI4DtE-tYw5Rr2t2MeeRVN7Q&usqp=CAU - as ./images\\black_americans\\9c3bb33a34.jpg\n",
      "SUCCESS - saved https://encrypted-tbn0.gstatic.com/images?q=tbn:ANd9GcTRAdlJxaEKoa0lWFmYezrR_r4TryipsoTSBA&usqp=CAU - as ./images\\black_americans\\b84739e9c4.jpg\n",
      "SUCCESS - saved https://encrypted-tbn0.gstatic.com/images?q=tbn:ANd9GcSObEH6Sjec0lh7HXz4EQmc258cNVRzoOpthg&usqp=CAU - as ./images\\black_americans\\9be1e53542.jpg\n",
      "SUCCESS - saved https://encrypted-tbn0.gstatic.com/images?q=tbn:ANd9GcTxxfCX3XMWyqUUcE5b7aqVAlshYVA8denUww&usqp=CAU - as ./images\\black_americans\\2792296020.jpg\n",
      "SUCCESS - saved https://encrypted-tbn0.gstatic.com/images?q=tbn:ANd9GcTtHilwghT1Hkcmg1_z65Il3RD8jURUaoBE5A&usqp=CAU - as ./images\\black_americans\\b9a1765f9f.jpg\n"
     ]
    }
   ],
   "source": [
    "search_term = 'Black Americans'\n",
    "\n",
    "search_and_download(search_term=search_term,\n",
    "                   driver_path=DRIVER_PATH,\n",
    "                    number_images=50\n",
    "                   )"
   ]
  },
  {
   "cell_type": "code",
   "execution_count": 20,
   "metadata": {},
   "outputs": [
    {
     "name": "stdout",
     "output_type": "stream",
     "text": [
      "Found: 100 search results. Extracting links from 0:100\n",
      "Found: 50 image links, done!\n",
      "SUCCESS - saved https://encrypted-tbn0.gstatic.com/images?q=tbn:ANd9GcT1WlWsDOiZhoKBi89vTH7eQ4x5Ia6pm6thTQ&usqp=CAU - as ./images\\asian_americans\\53cf91c121.jpg\n",
      "SUCCESS - saved https://encrypted-tbn0.gstatic.com/images?q=tbn:ANd9GcRr_9dh7fKHML2EOwSlNcuZoyXnvHJjvE042w&usqp=CAU - as ./images\\asian_americans\\7fc2e3914e.jpg\n",
      "SUCCESS - saved https://encrypted-tbn0.gstatic.com/images?q=tbn:ANd9GcSAVpv6j6QeOrNONIOFfeLgErmklOyt4VmTWw&usqp=CAU - as ./images\\asian_americans\\08e1bead1d.jpg\n",
      "SUCCESS - saved https://encrypted-tbn0.gstatic.com/images?q=tbn:ANd9GcTOGFGSyrtHD0fr5_4cexCZB5KyFsbRVN70-g&usqp=CAU - as ./images\\asian_americans\\8e44fb6d20.jpg\n",
      "SUCCESS - saved https://encrypted-tbn0.gstatic.com/images?q=tbn:ANd9GcQCMnif1jKLqmF9PxNcLupxWyp1GJXbHlJ7Ew&usqp=CAU - as ./images\\asian_americans\\a69a28db71.jpg\n",
      "SUCCESS - saved https://encrypted-tbn0.gstatic.com/images?q=tbn:ANd9GcS_2QIXZyNODWbnUflMv5si5F3j_8F2T2HLTg&usqp=CAU - as ./images\\asian_americans\\144a85acfc.jpg\n",
      "SUCCESS - saved https://encrypted-tbn0.gstatic.com/images?q=tbn:ANd9GcQArzWqVk-q8BfNZ7SP5J5YlzVJf0lkEUqgVQ&usqp=CAU - as ./images\\asian_americans\\c48354bcd8.jpg\n",
      "SUCCESS - saved https://encrypted-tbn0.gstatic.com/images?q=tbn:ANd9GcS40QqvSW5m8zVDFqHcsdOGL9yGHa3_dSxzLg&usqp=CAU - as ./images\\asian_americans\\5a8a76873f.jpg\n",
      "SUCCESS - saved https://encrypted-tbn0.gstatic.com/images?q=tbn:ANd9GcTCoxnHB0i519XEsC9KOHYkj-JKmD6RAReJMg&usqp=CAU - as ./images\\asian_americans\\b6e9639616.jpg\n",
      "SUCCESS - saved https://encrypted-tbn0.gstatic.com/images?q=tbn:ANd9GcSwGChJFz8vJxK4arzCI9MHhtWszcz4KVtXEA&usqp=CAU - as ./images\\asian_americans\\950321bae2.jpg\n",
      "SUCCESS - saved https://encrypted-tbn0.gstatic.com/images?q=tbn:ANd9GcRih6hTWeRH80pDrSpqzN15zvmkXtqk31JqKA&usqp=CAU - as ./images\\asian_americans\\ec98369701.jpg\n",
      "SUCCESS - saved https://encrypted-tbn0.gstatic.com/images?q=tbn:ANd9GcRbxE5HP_mu4VodEGaW27A-GKYtTAISql7Xgg&usqp=CAU - as ./images\\asian_americans\\76659416c8.jpg\n",
      "SUCCESS - saved https://encrypted-tbn0.gstatic.com/images?q=tbn:ANd9GcRRITD4nvV9wi8-UOeDSko41-HnSzktnu5Ygg&usqp=CAU - as ./images\\asian_americans\\0f9fe15f64.jpg\n",
      "SUCCESS - saved https://encrypted-tbn0.gstatic.com/images?q=tbn:ANd9GcRaG-7vjZ16unJcEUMRE0eqs1jzhB4rfQ3o_A&usqp=CAU - as ./images\\asian_americans\\ad9b3f5877.jpg\n",
      "SUCCESS - saved https://encrypted-tbn0.gstatic.com/images?q=tbn:ANd9GcRvnZnU-f-iLaseaTCZpwStP7X26w8AJ4awGg&usqp=CAU - as ./images\\asian_americans\\d1ffb7ac56.jpg\n",
      "SUCCESS - saved https://encrypted-tbn0.gstatic.com/images?q=tbn:ANd9GcTnxux8x0o4-lAjhGDlgxNZ-UwaPVPyyOZlSw&usqp=CAU - as ./images\\asian_americans\\8d3d800755.jpg\n",
      "SUCCESS - saved https://encrypted-tbn0.gstatic.com/images?q=tbn:ANd9GcRIVhz0S_qw5J6-QsnVUoQHFszQBPH72RYxZg&usqp=CAU - as ./images\\asian_americans\\daffe64fae.jpg\n",
      "SUCCESS - saved https://encrypted-tbn0.gstatic.com/images?q=tbn:ANd9GcTHwvzMYJAL18-7YNyz07_vu9bmm_WDcfFk1Q&usqp=CAU - as ./images\\asian_americans\\d98d7616c2.jpg\n",
      "SUCCESS - saved https://encrypted-tbn0.gstatic.com/images?q=tbn:ANd9GcR2I2AtBhr39w8tXmZl8PSVmhMe-yZGDwL78w&usqp=CAU - as ./images\\asian_americans\\1d2824a913.jpg\n",
      "SUCCESS - saved https://encrypted-tbn0.gstatic.com/images?q=tbn:ANd9GcS3a_jb7wCAcXVsnF3nh8EM-PCEnmSshMNe-w&usqp=CAU - as ./images\\asian_americans\\e99154aac6.jpg\n",
      "SUCCESS - saved https://encrypted-tbn0.gstatic.com/images?q=tbn:ANd9GcTWhBgZ4VqFk6cV5Su-Eh9U-EzDgdSr94O4Pw&usqp=CAU - as ./images\\asian_americans\\1af5a868c4.jpg\n",
      "SUCCESS - saved https://encrypted-tbn0.gstatic.com/images?q=tbn:ANd9GcTZDMxbDggC0pACXe8RXRow0sOvzq6RuWkNKA&usqp=CAU - as ./images\\asian_americans\\555420398e.jpg\n",
      "SUCCESS - saved https://encrypted-tbn0.gstatic.com/images?q=tbn:ANd9GcRFDofKxF97_hj30oMT19xJVYkbPo8DOg9vkQ&usqp=CAU - as ./images\\asian_americans\\a73777ea19.jpg\n",
      "SUCCESS - saved https://encrypted-tbn0.gstatic.com/images?q=tbn:ANd9GcTRwvaPSvgyIWAKrxZ3-meBpgeiWNUQVQsCXQ&usqp=CAU - as ./images\\asian_americans\\0c0e077612.jpg\n",
      "SUCCESS - saved https://encrypted-tbn0.gstatic.com/images?q=tbn:ANd9GcQJ3n0MRppRHr0WzMlBLpFPoDval52xIvc6tA&usqp=CAU - as ./images\\asian_americans\\84f3421bca.jpg\n",
      "SUCCESS - saved https://encrypted-tbn0.gstatic.com/images?q=tbn:ANd9GcT3QlLgNwvPk9lvcvYx-dMohi7XOzP2rARjLQ&usqp=CAU - as ./images\\asian_americans\\62a3101ebc.jpg\n",
      "SUCCESS - saved https://encrypted-tbn0.gstatic.com/images?q=tbn:ANd9GcQCo1BK_gmmn6G8kpw1O5BJ-RnA7Jlo3qDmzg&usqp=CAU - as ./images\\asian_americans\\a41da623dc.jpg\n",
      "SUCCESS - saved https://encrypted-tbn0.gstatic.com/images?q=tbn:ANd9GcR8Up4dN097W87sD-hSSohGV0cG8c-J-y9fuA&usqp=CAU - as ./images\\asian_americans\\81ddce8a58.jpg\n",
      "SUCCESS - saved https://encrypted-tbn0.gstatic.com/images?q=tbn:ANd9GcSnd2Lm8qNfGZCt6sjiDW5CHjt1DEO9PSMl9A&usqp=CAU - as ./images\\asian_americans\\57600bbf3f.jpg\n",
      "SUCCESS - saved https://encrypted-tbn0.gstatic.com/images?q=tbn:ANd9GcSqJi6xVBiNtcDQyEZZ6Qs8Ymz-So2VYnYQTw&usqp=CAU - as ./images\\asian_americans\\873046e643.jpg\n",
      "SUCCESS - saved https://encrypted-tbn0.gstatic.com/images?q=tbn:ANd9GcRYnbVvpnpN8IPizIFc-JsAQ5u1xii-_q_QMw&usqp=CAU - as ./images\\asian_americans\\d349830b44.jpg\n",
      "SUCCESS - saved https://encrypted-tbn0.gstatic.com/images?q=tbn:ANd9GcROGcSRQWPx3riUXl02f0MZ32EZrdyyrM5KjA&usqp=CAU - as ./images\\asian_americans\\adc13de9d7.jpg\n",
      "SUCCESS - saved https://encrypted-tbn0.gstatic.com/images?q=tbn:ANd9GcQyfTLsaD0g4efboczcysA7bPe7-JnDONdHTQ&usqp=CAU - as ./images\\asian_americans\\ebf1d1806d.jpg\n",
      "SUCCESS - saved https://encrypted-tbn0.gstatic.com/images?q=tbn:ANd9GcS9out77rPdkyfFvAoM8PvGVynJ_gSw_lhuaw&usqp=CAU - as ./images\\asian_americans\\ad7b2b39da.jpg\n",
      "SUCCESS - saved https://encrypted-tbn0.gstatic.com/images?q=tbn:ANd9GcQXWRpCumICCEe3Oq-lhvVcJDIvXi9-ZzhpWg&usqp=CAU - as ./images\\asian_americans\\90849ae245.jpg\n",
      "SUCCESS - saved https://encrypted-tbn0.gstatic.com/images?q=tbn:ANd9GcSwWC7rPTD5gRWZ6GOAuHva4SGcHdYwR8nHFg&usqp=CAU - as ./images\\asian_americans\\c232e43045.jpg\n",
      "SUCCESS - saved https://encrypted-tbn0.gstatic.com/images?q=tbn:ANd9GcTjM8lS18x7AhRWhC6qRz0hFPzjrvAEK3G6ag&usqp=CAU - as ./images\\asian_americans\\966a62997f.jpg\n",
      "SUCCESS - saved https://encrypted-tbn0.gstatic.com/images?q=tbn:ANd9GcSgyh7mp-TlAFpY8W-RaqrTvE3TMDHIjdTwaQ&usqp=CAU - as ./images\\asian_americans\\3b90fafb1a.jpg\n",
      "SUCCESS - saved https://encrypted-tbn0.gstatic.com/images?q=tbn:ANd9GcTAeK0Fn6wx5XM17wGCO6UbrZNodwZmd07IsA&usqp=CAU - as ./images\\asian_americans\\e8bf2d0dc4.jpg\n",
      "SUCCESS - saved https://encrypted-tbn0.gstatic.com/images?q=tbn:ANd9GcQsq0ACbF4zhg-R4SZ-ntTKpLanOM-QV52eqA&usqp=CAU - as ./images\\asian_americans\\7b893cd2cd.jpg\n",
      "SUCCESS - saved https://encrypted-tbn0.gstatic.com/images?q=tbn:ANd9GcSZuzGZ7zOSiDhJ6Nw4E-0grZl3jgp2yQuuWw&usqp=CAU - as ./images\\asian_americans\\c12ab5987d.jpg\n",
      "SUCCESS - saved https://encrypted-tbn0.gstatic.com/images?q=tbn:ANd9GcQIWTCETHo80V4KuBCS6kD6Ek3b6dEFi1Sj5g&usqp=CAU - as ./images\\asian_americans\\2e25e82043.jpg\n",
      "SUCCESS - saved https://encrypted-tbn0.gstatic.com/images?q=tbn:ANd9GcR9916DhWOmN11iljgfrxdbf1d43cb0-Fiuyw&usqp=CAU - as ./images\\asian_americans\\857c57dbb4.jpg\n",
      "SUCCESS - saved https://encrypted-tbn0.gstatic.com/images?q=tbn:ANd9GcRjQLwruSKE832cHaVfFa7GHKc8xr6F9ZVaIg&usqp=CAU - as ./images\\asian_americans\\09943d55f0.jpg\n",
      "SUCCESS - saved https://encrypted-tbn0.gstatic.com/images?q=tbn:ANd9GcQ9T6EMqL_JXPLG4qe4-q21Xts2HRWui0RZGg&usqp=CAU - as ./images\\asian_americans\\ea7d86ae12.jpg\n",
      "SUCCESS - saved https://encrypted-tbn0.gstatic.com/images?q=tbn:ANd9GcQh70SPtZiQ3u6T2hzMp0r3phdMy40U6zbxYQ&usqp=CAU - as ./images\\asian_americans\\82c7cb2043.jpg\n",
      "SUCCESS - saved https://encrypted-tbn0.gstatic.com/images?q=tbn:ANd9GcR65tguMF4P299ikgp32xHuwJAf859ufAb88Q&usqp=CAU - as ./images\\asian_americans\\104d7c7909.jpg\n",
      "SUCCESS - saved https://encrypted-tbn0.gstatic.com/images?q=tbn:ANd9GcS-MdoJOzIhotZT9uK_XiGekycNMdXaC30Y1A&usqp=CAU - as ./images\\asian_americans\\904d5bd989.jpg\n",
      "SUCCESS - saved https://encrypted-tbn0.gstatic.com/images?q=tbn:ANd9GcTGJANj3GiR8OoOmzq2xZbBN9BXrM_0LNhMow&usqp=CAU - as ./images\\asian_americans\\7ed443cb42.jpg\n",
      "SUCCESS - saved https://encrypted-tbn0.gstatic.com/images?q=tbn:ANd9GcQtra0CtXM15yq7zOs2GPG-ygPjypsCb9OzFw&usqp=CAU - as ./images\\asian_americans\\d9c50bc47d.jpg\n"
     ]
    }
   ],
   "source": [
    "search_term = 'Asian Americans'\n",
    "\n",
    "search_and_download(search_term=search_term,\n",
    "                   driver_path=DRIVER_PATH,\n",
    "                    number_images=50\n",
    "                   )"
   ]
  }
 ],
 "metadata": {
  "kernelspec": {
   "display_name": "Python 3",
   "language": "python",
   "name": "python3"
  },
  "language_info": {
   "codemirror_mode": {
    "name": "ipython",
    "version": 3
   },
   "file_extension": ".py",
   "mimetype": "text/x-python",
   "name": "python",
   "nbconvert_exporter": "python",
   "pygments_lexer": "ipython3",
   "version": "3.7.4"
  }
 },
 "nbformat": 4,
 "nbformat_minor": 4
}
